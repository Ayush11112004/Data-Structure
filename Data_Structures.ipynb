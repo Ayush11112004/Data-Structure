{
  "nbformat": 4,
  "nbformat_minor": 0,
  "metadata": {
    "colab": {
      "provenance": []
    },
    "kernelspec": {
      "name": "python3",
      "display_name": "Python 3"
    },
    "language_info": {
      "name": "python"
    }
  },
  "cells": [
    {
      "cell_type": "markdown",
      "source": [
        "#Data Structures"
      ],
      "metadata": {
        "id": "OlcyplI_4kgD"
      }
    },
    {
      "cell_type": "markdown",
      "source": [
        "1. What are data structures, and why are they important?\n",
        "> Data structures are ways of organizing and storing data so that it can be accessed and modified efficiently. They are important because they help in optimising memory usage,improving performance of algorithms and making code clearer and easier to manage."
      ],
      "metadata": {
        "id": "L4UF4vEZ4pS3"
      }
    },
    {
      "cell_type": "markdown",
      "source": [
        "2. Explain the difference between mutable and immutable data types with examples.\n",
        "> Mutable data types are the types of data that can be further changed after the creation,for example list,dictionary,etc.Whereas immutable data types are the types that cannot be further changed after one created,for example tuple,string,etc."
      ],
      "metadata": {
        "id": "rUgTAOg95KJB"
      }
    },
    {
      "cell_type": "markdown",
      "source": [
        "3. What are the main differences between lists and tuples in Python?\n",
        "> 1.\tMutability:\n",
        "Lists are mutable, meaning you can change, add, or remove elements after the list is created. Tuples are immutable, so once created, their contents cannot be modified.\n",
        "\n",
        "\n",
        "2.\tSyntax:\n",
        "A list is created using square brackets: [1, 2, 3]\n",
        "A tuple is created using parentheses: (1, 2, 3)\n",
        "\n",
        "\n",
        "3.\tPerformance:\n",
        "Tuples are generally faster than lists when it comes to iteration.\n",
        "\n",
        "\n",
        "4.\tUse Cases:\n",
        "Use lists when you need a collection of items that can change over time. Use tuples when you want to store constant data or use the collection as a dictionary key.\n",
        "\n",
        "\n",
        "5.\tMethods Available:\n",
        "Lists have many built-in methods like append(), remove(), sort(), etc. Tuples have very few methods because they are not meant to change."
      ],
      "metadata": {
        "id": "fmqTAuOx7eI2"
      }
    },
    {
      "cell_type": "markdown",
      "source": [
        "4.  Describe how dictionaries store data.\n",
        "> Dictionaries store data as key-value pairs using a hash table. Each key is hashed to determine where to store the corresponding value."
      ],
      "metadata": {
        "id": "mRg4nyop8Y2D"
      }
    },
    {
      "cell_type": "code",
      "execution_count": 1,
      "metadata": {
        "id": "EvmcSDwN4M8y"
      },
      "outputs": [],
      "source": [
        "student = {\"name\": \"Alice\", \"age\": 20}\n"
      ]
    },
    {
      "cell_type": "markdown",
      "source": [
        "5. Why might you use a set instead of a list in Python?\n",
        "> 1. Automatic Removal of Duplicates:\n",
        "Sets do not allow duplicate values, so they are ideal when you need to ensure all elements are unique.\n",
        " 2. Efficient Set Operations:\n",
        "Sets support some mathematical operations like union, intersection, and difference, which are not directly available for lists.\n",
        " 3. Better for Unordered Data:\n",
        "If you don't care about the order of elements, and you only care about whether something is present, a set is a better fit than a list."
      ],
      "metadata": {
        "id": "qgfrTDzs8u19"
      }
    },
    {
      "cell_type": "markdown",
      "source": [
        "6. What is a string in Python, and how is it different from a list?\n",
        "> A string is an immutable sequence of characters whereas a list is a mutable sequence of any data type.That means strings cannot be changed in place but list can."
      ],
      "metadata": {
        "id": "K8pCkNUY-yK1"
      }
    },
    {
      "cell_type": "markdown",
      "source": [
        "7. How do tuples ensure data integrity in Python?\n",
        "> Tuples are immutable, which means their contents can't be changed. This makes them safer for storing fixed configurations or constant data.\n",
        "\n"
      ],
      "metadata": {
        "id": "t7y3n-Yl_msg"
      }
    },
    {
      "cell_type": "markdown",
      "source": [
        "8. What is a hash table, and how does it relate to dictionaries in Python?\n",
        "> A harsh table is a data structure that stores key-value pairs and uses a harsh function to map each key to a specific index in an internal way."
      ],
      "metadata": {
        "id": "rAIFXCIo_x-A"
      }
    },
    {
      "cell_type": "markdown",
      "source": [
        "9. Can lists contain different data types in Python?\n",
        "> Yes lists can contain any type of hetrogeneous data in python."
      ],
      "metadata": {
        "id": "Cu2vx4GYAVUx"
      }
    },
    {
      "cell_type": "markdown",
      "source": [
        "10.  Explain why strings are immutable in Python?\n",
        "> Strings in Python are immutable, meaning you cannot change them after they are created. Instead of modifying a string, any change creates a new string."
      ],
      "metadata": {
        "id": "paH8KM00AlKM"
      }
    },
    {
      "cell_type": "markdown",
      "source": [
        "11. What advantages do dictionaries offer over lists for certain tasks?\n",
        "> Dictionaries offer several key advantages over lists for certain tasks, especially when dealing with structured or key-based data.you can use dictionary over a list when:-\n",
        "  -You need to associate names/labels with values\n",
        "  -You need fast access to elements via unique identifiers\n",
        "  -You are dealing with records, user profiles, settings, etc."
      ],
      "metadata": {
        "id": "oSGLijkyBO5Y"
      }
    },
    {
      "cell_type": "markdown",
      "source": [
        "12. Describe a scenario where using a tuple would be preferable over a list.\n",
        "> Use a tuple over a list when you want fixed data or to use the data as a key in the dictionary."
      ],
      "metadata": {
        "id": "e_u34fzeB9_T"
      }
    },
    {
      "cell_type": "markdown",
      "source": [
        "13. How do sets handle duplicate values in Python?\n",
        "> In Python, sets automatically eliminate duplicate values. When you create a set, any duplicate elements are removed internally, and only unique elements are stored.\n",
        "\n"
      ],
      "metadata": {
        "id": "ApybtXTnCij9"
      }
    },
    {
      "cell_type": "markdown",
      "source": [
        "14. How does the \"in\" keyword work differently for lists and dictionaries?\n",
        "> The \"in\" keyword in a list checks if a value exists or not wheather in dictionary it checks where if a key exists or not."
      ],
      "metadata": {
        "id": "sPZX87zUCxIS"
      }
    },
    {
      "cell_type": "markdown",
      "source": [
        "15. Can you modify the elements of a tuple? Explain why or why not.\n",
        "> No you cannot modify the elements of a tuple,meaning once a tuple is created, the elements cannot be changed, added to, or removed.\n",
        "This immutability helps to maintain data integrity,enable safe use as dictionary keys and to improve performance."
      ],
      "metadata": {
        "id": "CHNJmpnHDO4u"
      }
    },
    {
      "cell_type": "markdown",
      "source": [
        "16. What is a nested dictionary, and give an example of its use case?\n",
        "> A nested dictionary is a dictionary where values are also dictionaries, which means dictionary within a dictionary."
      ],
      "metadata": {
        "id": "l7ERjs8tEIH_"
      }
    },
    {
      "cell_type": "code",
      "source": [
        "students = {\n",
        "  \"101\": {\"name\": \"Alice\", \"age\": 20},\n",
        "  \"102\": {\"name\": \"Bob\", \"age\": 22}\n",
        "}\n"
      ],
      "metadata": {
        "id": "Fml4CiJIEban"
      },
      "execution_count": 2,
      "outputs": []
    },
    {
      "cell_type": "markdown",
      "source": [
        "17. Describe the time complexity of accessing elements in a dictionary.\n",
        "> Average case: O(1) and Worst case: O(n)."
      ],
      "metadata": {
        "id": "BzmBysGREhM4"
      }
    },
    {
      "cell_type": "markdown",
      "source": [
        "18. In what situations are lists preferred over dictionaries?\n",
        "> 1. You need an ordered squence of items\n",
        "  2. Data has no unique key or label\n",
        "  3. You are working with simple iteration\n",
        "  4. You need to store duplicate values\n",
        "  5. You are accessing items by index."
      ],
      "metadata": {
        "id": "tPxH1-myEyZp"
      }
    },
    {
      "cell_type": "markdown",
      "source": [
        "19. Why are dictionaries considered unordered, and how does that affect data retrieval?\n",
        "> Dictionaries were originally considered unordered because they used hash tables to store key-value pairs, and the order of keys was not guaranteed,it depended on the internal hash computation."
      ],
      "metadata": {
        "id": "8RdJzYiYFtg1"
      }
    },
    {
      "cell_type": "markdown",
      "source": [
        "20. Explain the difference between a list and a dictionary in terms of data retrieval.\n",
        "> In Python, a list is an ordered collection where each item is accessed by its index which is its position in the list, starting from 0. To retrieve an item from a list, you must know its exact position.\n",
        "On the other hand, a dictionary is an unordered collection where each value is associated with a unique key. To retrieve data from a dictionary, you don't use an index you use the key directly.\n",
        "This means:Lists are great when you're dealing with simple sequences and you know the order of the items.Dictionaries are better when your data is structured with labels or identifiers, and you want fast access to specific information using meaningful keys.\n",
        "\n"
      ],
      "metadata": {
        "id": "f6H5oyt1GHKB"
      }
    },
    {
      "cell_type": "code",
      "source": [
        "# 1. Create a string with your name and print it.\n",
        "\n",
        "name = \"Ayush\"\n",
        "print(name)\n"
      ],
      "metadata": {
        "colab": {
          "base_uri": "https://localhost:8080/"
        },
        "id": "-wrUafEQG1mt",
        "outputId": "c7e898e8-3af4-4162-d872-7bea2861db7f"
      },
      "execution_count": 3,
      "outputs": [
        {
          "output_type": "stream",
          "name": "stdout",
          "text": [
            "Ayush\n"
          ]
        }
      ]
    },
    {
      "cell_type": "code",
      "source": [
        "# 2. Find the length of the string \"Hello World\".\n",
        "\n",
        "text = \"Hello World\"\n",
        "print(len(text))\n"
      ],
      "metadata": {
        "colab": {
          "base_uri": "https://localhost:8080/"
        },
        "id": "H6BLkLLkHT4v",
        "outputId": "886ac3c8-cf60-42f3-ebd3-579c93ca968b"
      },
      "execution_count": 4,
      "outputs": [
        {
          "output_type": "stream",
          "name": "stdout",
          "text": [
            "11\n"
          ]
        }
      ]
    },
    {
      "cell_type": "code",
      "source": [
        "# 3. Slice the first 3 characters from the string \"Python Programming\".\n",
        "\n",
        "s = \"Python Programming\"\n",
        "print(s[:3])\n"
      ],
      "metadata": {
        "colab": {
          "base_uri": "https://localhost:8080/"
        },
        "id": "Md_tWcHJHaO_",
        "outputId": "bf19c46a-a3ab-4668-dc6b-7fe70534b29a"
      },
      "execution_count": 5,
      "outputs": [
        {
          "output_type": "stream",
          "name": "stdout",
          "text": [
            "Pyt\n"
          ]
        }
      ]
    },
    {
      "cell_type": "code",
      "source": [
        "# 4. Convert the string \"hello\" to uppercase.\n",
        "\n",
        "word = \"hello\"\n",
        "print(word.upper())\n"
      ],
      "metadata": {
        "colab": {
          "base_uri": "https://localhost:8080/"
        },
        "id": "GgwkGvttHjjF",
        "outputId": "f0176b73-becc-4972-bddc-5b01521a08c8"
      },
      "execution_count": 6,
      "outputs": [
        {
          "output_type": "stream",
          "name": "stdout",
          "text": [
            "HELLO\n"
          ]
        }
      ]
    },
    {
      "cell_type": "code",
      "source": [
        "#5. Replace the word \"apple\" with \"orange\" in the string \"I like apple\".\n",
        "\n",
        "sentence = \"I like apple\"\n",
        "print(sentence.replace(\"apple\", \"orange\"))\n"
      ],
      "metadata": {
        "colab": {
          "base_uri": "https://localhost:8080/"
        },
        "id": "3flINGbHHryP",
        "outputId": "d7de5200-7477-4a09-ba37-c0ea62224910"
      },
      "execution_count": 7,
      "outputs": [
        {
          "output_type": "stream",
          "name": "stdout",
          "text": [
            "I like orange\n"
          ]
        }
      ]
    },
    {
      "cell_type": "code",
      "source": [
        "# 6. Create a list with numbers 1 to 5 and print it.\n",
        "\n",
        "numbers = [1, 2, 3, 4, 5]\n",
        "print(numbers)\n"
      ],
      "metadata": {
        "colab": {
          "base_uri": "https://localhost:8080/"
        },
        "id": "H1mWwzS6Hydj",
        "outputId": "fbf3033f-3759-4aeb-c452-da3c424fabfd"
      },
      "execution_count": 8,
      "outputs": [
        {
          "output_type": "stream",
          "name": "stdout",
          "text": [
            "[1, 2, 3, 4, 5]\n"
          ]
        }
      ]
    },
    {
      "cell_type": "code",
      "source": [
        "# 7. Append the number 10 to the list [1, 2, 3, 4].\n",
        "\n",
        "my_list = [1, 2, 3, 4]\n",
        "my_list.append(10)\n",
        "print(my_list)\n"
      ],
      "metadata": {
        "colab": {
          "base_uri": "https://localhost:8080/"
        },
        "id": "L_ahhjbbH5Zs",
        "outputId": "3e07e8c4-e244-4d6d-8c12-12dd077e3b9b"
      },
      "execution_count": 9,
      "outputs": [
        {
          "output_type": "stream",
          "name": "stdout",
          "text": [
            "[1, 2, 3, 4, 10]\n"
          ]
        }
      ]
    },
    {
      "cell_type": "code",
      "source": [
        "# 8. Remove the number 3 from the list [1, 2, 3, 4, 5].\n",
        "\n",
        "nums = [1, 2, 3, 4, 5]\n",
        "nums.remove(3)\n",
        "print(nums)\n"
      ],
      "metadata": {
        "colab": {
          "base_uri": "https://localhost:8080/"
        },
        "id": "Pq6dcDNzIA3v",
        "outputId": "55f7c553-4de3-42ab-8795-05b736436ce6"
      },
      "execution_count": 10,
      "outputs": [
        {
          "output_type": "stream",
          "name": "stdout",
          "text": [
            "[1, 2, 4, 5]\n"
          ]
        }
      ]
    },
    {
      "cell_type": "code",
      "source": [
        "# 9. Access the second element in the list ['a', 'b', 'c', 'd'].\n",
        "\n",
        "letters = ['a', 'b', 'c', 'd']\n",
        "print(letters[1])\n"
      ],
      "metadata": {
        "colab": {
          "base_uri": "https://localhost:8080/"
        },
        "id": "uhZaKBhEIHTW",
        "outputId": "f941a8cc-26ea-4e12-cafc-0be007bd2e40"
      },
      "execution_count": 12,
      "outputs": [
        {
          "output_type": "stream",
          "name": "stdout",
          "text": [
            "b\n"
          ]
        }
      ]
    },
    {
      "cell_type": "code",
      "source": [
        "# 10. Reverse the list [10, 20, 30, 40, 50]\n",
        "\n",
        "values = [10, 20, 30, 40, 50]\n",
        "values.reverse()\n",
        "print(values)\n"
      ],
      "metadata": {
        "colab": {
          "base_uri": "https://localhost:8080/"
        },
        "id": "GbIsmgoyIMmM",
        "outputId": "22f00cea-dc07-4ad3-a5fc-bc6434073308"
      },
      "execution_count": 13,
      "outputs": [
        {
          "output_type": "stream",
          "name": "stdout",
          "text": [
            "[50, 40, 30, 20, 10]\n"
          ]
        }
      ]
    },
    {
      "cell_type": "code",
      "source": [
        "# 11. Write a code to create a tuple with the elements 100, 200, 300 and print it.\n",
        "\n",
        "my_tuple = (100, 200, 300)\n",
        "print(my_tuple)\n"
      ],
      "metadata": {
        "colab": {
          "base_uri": "https://localhost:8080/"
        },
        "id": "DRuUFhEyIUGS",
        "outputId": "d8609841-9530-4e09-a870-f1db6392b4b9"
      },
      "execution_count": 14,
      "outputs": [
        {
          "output_type": "stream",
          "name": "stdout",
          "text": [
            "(100, 200, 300)\n"
          ]
        }
      ]
    },
    {
      "cell_type": "code",
      "source": [
        "# 12. Access the second-to-last element of the tuple ('red', 'green', 'blue', 'yellow').\n",
        "\n",
        "colors = ('red', 'green', 'blue', 'yellow')\n",
        "print(colors[-2])\n"
      ],
      "metadata": {
        "colab": {
          "base_uri": "https://localhost:8080/"
        },
        "id": "EXKETfZZI0tm",
        "outputId": "0095fc54-45df-40bb-e704-f07d6c0cbcdc"
      },
      "execution_count": 15,
      "outputs": [
        {
          "output_type": "stream",
          "name": "stdout",
          "text": [
            "blue\n"
          ]
        }
      ]
    },
    {
      "cell_type": "code",
      "source": [
        "# 13. Find the minimum number in the tuple (10, 20, 5, 15).\n",
        "\n",
        "numbers = (10, 20, 5, 15)\n",
        "print(min(numbers))\n"
      ],
      "metadata": {
        "colab": {
          "base_uri": "https://localhost:8080/"
        },
        "id": "NBLiXbwTI6PD",
        "outputId": "a1c3c692-7cef-43ea-8380-5c1d40032c69"
      },
      "execution_count": 16,
      "outputs": [
        {
          "output_type": "stream",
          "name": "stdout",
          "text": [
            "5\n"
          ]
        }
      ]
    },
    {
      "cell_type": "code",
      "source": [
        "# 14. Find the index of the element \"cat\" in the tuple ('dog', 'cat', 'rabbit').\n",
        "\n",
        "animals = ('dog', 'cat', 'rabbit')\n",
        "print(animals.index(\"cat\"))\n"
      ],
      "metadata": {
        "colab": {
          "base_uri": "https://localhost:8080/"
        },
        "id": "5T9oiGjUI-dl",
        "outputId": "a44be6ea-8e0b-44dd-8406-1b481033b628"
      },
      "execution_count": 17,
      "outputs": [
        {
          "output_type": "stream",
          "name": "stdout",
          "text": [
            "1\n"
          ]
        }
      ]
    },
    {
      "cell_type": "code",
      "source": [
        "# 15. Create a tuple containing three different fruits and check if \"kiwi\" is in it.\n",
        "\n",
        "fruits = (\"apple\", \"banana\", \"kiwi\")\n",
        "print(\"kiwi\" in fruits)\n"
      ],
      "metadata": {
        "colab": {
          "base_uri": "https://localhost:8080/"
        },
        "id": "kGnqClWHJDw3",
        "outputId": "d5bd48ab-4968-4a64-e198-743c2d3f325d"
      },
      "execution_count": 18,
      "outputs": [
        {
          "output_type": "stream",
          "name": "stdout",
          "text": [
            "True\n"
          ]
        }
      ]
    },
    {
      "cell_type": "code",
      "source": [
        "# 16. Create a set with the elements 'a', 'b', 'c' and print it.\n",
        "\n",
        "my_set = {'a', 'b', 'c'}\n",
        "print(my_set)\n"
      ],
      "metadata": {
        "colab": {
          "base_uri": "https://localhost:8080/"
        },
        "id": "37EY5imKJJeL",
        "outputId": "881c7ac5-839f-40a4-870f-a0498d79a0cd"
      },
      "execution_count": 19,
      "outputs": [
        {
          "output_type": "stream",
          "name": "stdout",
          "text": [
            "{'b', 'c', 'a'}\n"
          ]
        }
      ]
    },
    {
      "cell_type": "code",
      "source": [
        "# 17. Clear all elements from the set {1, 2, 3, 4, 5}.\n",
        "\n",
        "nums = {1, 2, 3, 4, 5}\n",
        "nums.clear()\n",
        "print(nums)\n"
      ],
      "metadata": {
        "colab": {
          "base_uri": "https://localhost:8080/"
        },
        "id": "nwWu12jbJQDb",
        "outputId": "57ecfcc6-4053-46f0-ec6d-b0c91be5e0b4"
      },
      "execution_count": 20,
      "outputs": [
        {
          "output_type": "stream",
          "name": "stdout",
          "text": [
            "set()\n"
          ]
        }
      ]
    },
    {
      "cell_type": "code",
      "source": [
        "# 18. Remove the element 4 from the set {1, 2, 3, 4}\n",
        "\n",
        "nums = {1, 2, 3, 4}\n",
        "nums.remove(4)\n",
        "print(nums)\n"
      ],
      "metadata": {
        "colab": {
          "base_uri": "https://localhost:8080/"
        },
        "id": "UG_PNhaZJUSG",
        "outputId": "b6dc7da7-5a86-4e1e-edd2-8992ea80e40a"
      },
      "execution_count": 21,
      "outputs": [
        {
          "output_type": "stream",
          "name": "stdout",
          "text": [
            "{1, 2, 3}\n"
          ]
        }
      ]
    },
    {
      "cell_type": "code",
      "source": [
        "# 19. Find the union of two sets {1, 2, 3} and {3, 4, 5}\n",
        "\n",
        "set1 = {1, 2, 3}\n",
        "set2 = {3, 4, 5}\n",
        "print(set1.union(set2))\n"
      ],
      "metadata": {
        "colab": {
          "base_uri": "https://localhost:8080/"
        },
        "id": "3S0Ak_VzJadn",
        "outputId": "a38676d0-8c4b-456c-f702-2f91dcce50d5"
      },
      "execution_count": 22,
      "outputs": [
        {
          "output_type": "stream",
          "name": "stdout",
          "text": [
            "{1, 2, 3, 4, 5}\n"
          ]
        }
      ]
    },
    {
      "cell_type": "code",
      "source": [
        "# 20. Find the intersection of two sets {1, 2, 3} and {2, 3, 4}\n",
        "\n",
        "set1 = {1, 2, 3}\n",
        "set2 = {2, 3, 4}\n",
        "print(set1.intersection(set2))\n"
      ],
      "metadata": {
        "colab": {
          "base_uri": "https://localhost:8080/"
        },
        "id": "HNMfU9KUJhkz",
        "outputId": "d77fa474-d1fb-434f-d61e-0ebb73c4869e"
      },
      "execution_count": 23,
      "outputs": [
        {
          "output_type": "stream",
          "name": "stdout",
          "text": [
            "{2, 3}\n"
          ]
        }
      ]
    },
    {
      "cell_type": "code",
      "source": [
        "# 21. Create a dictionary with the keys \"name\", \"age\", and \"city\", and print it\n",
        "\n",
        "person = {\"name\": \"Ayush\", \"age\": 21, \"city\": \"Ranchi\"}\n",
        "print(person)\n"
      ],
      "metadata": {
        "colab": {
          "base_uri": "https://localhost:8080/"
        },
        "id": "AWUQ0nR5JmU_",
        "outputId": "29687ab4-2dd5-4dc8-f31b-37346f2fe327"
      },
      "execution_count": 25,
      "outputs": [
        {
          "output_type": "stream",
          "name": "stdout",
          "text": [
            "{'name': 'Ayush', 'age': 21, 'city': 'Ranchi'}\n"
          ]
        }
      ]
    },
    {
      "cell_type": "code",
      "source": [
        "# 22. Add a new key-value pair \"country\": \"USA\" to the dictionary\n",
        "\n",
        "person = {'name': 'Ayush', 'age': 21}\n",
        "person[\"country\"] = \"USA\"\n",
        "print(person)\n"
      ],
      "metadata": {
        "colab": {
          "base_uri": "https://localhost:8080/"
        },
        "id": "C47cSB07JwiX",
        "outputId": "4cc0e78b-6cb9-4c86-da96-0f014e335db7"
      },
      "execution_count": 26,
      "outputs": [
        {
          "output_type": "stream",
          "name": "stdout",
          "text": [
            "{'name': 'Ayush', 'age': 21, 'country': 'USA'}\n"
          ]
        }
      ]
    },
    {
      "cell_type": "code",
      "source": [
        "# 23. Access the value associated with the key \"name\".\n",
        "\n",
        "person = {'name': 'Alice', 'age': 30}\n",
        "print(person[\"name\"])\n"
      ],
      "metadata": {
        "colab": {
          "base_uri": "https://localhost:8080/"
        },
        "id": "7JYgcmpzJ9sU",
        "outputId": "b3072339-3955-411e-f99f-15501d5edc12"
      },
      "execution_count": 27,
      "outputs": [
        {
          "output_type": "stream",
          "name": "stdout",
          "text": [
            "Alice\n"
          ]
        }
      ]
    },
    {
      "cell_type": "code",
      "source": [
        "# 24. Remove the key \"age\" from the dictionary\n",
        "\n",
        "person = {'name': 'Ayush', 'age': 21, 'city': 'Ranchi'}\n",
        "person.pop(\"age\")\n",
        "print(person)\n"
      ],
      "metadata": {
        "colab": {
          "base_uri": "https://localhost:8080/"
        },
        "id": "5lVzmeWJKG5i",
        "outputId": "5b3dbd54-bbfd-4f17-8510-5b9a731dbec1"
      },
      "execution_count": 28,
      "outputs": [
        {
          "output_type": "stream",
          "name": "stdout",
          "text": [
            "{'name': 'Ayush', 'city': 'Ranchi'}\n"
          ]
        }
      ]
    },
    {
      "cell_type": "code",
      "source": [
        "# 25. Check if the key \"city\" exists in the dictionary.\n",
        "\n",
        "person = {'name': 'Alice', 'city': 'Paris'}\n",
        "print(\"city\" in person)\n"
      ],
      "metadata": {
        "colab": {
          "base_uri": "https://localhost:8080/"
        },
        "id": "698mVnf-KP6b",
        "outputId": "5e739f72-ec21-43ac-f33b-91a075a99763"
      },
      "execution_count": 29,
      "outputs": [
        {
          "output_type": "stream",
          "name": "stdout",
          "text": [
            "True\n"
          ]
        }
      ]
    },
    {
      "cell_type": "code",
      "source": [
        "# 26. Create a list, a tuple, and a dictionary, and print them all.\n",
        "\n",
        "my_list = [1, 2, 3]\n",
        "my_tuple = (4, 5, 6)\n",
        "my_dict = {\"a\": 7, \"b\": 8}\n",
        "print(my_list)\n",
        "print(my_tuple)\n",
        "print(my_dict)\n"
      ],
      "metadata": {
        "colab": {
          "base_uri": "https://localhost:8080/"
        },
        "id": "S8EJTli1KV0o",
        "outputId": "39a2e02a-3a8f-4bd4-f7ed-8522e02bbee0"
      },
      "execution_count": 30,
      "outputs": [
        {
          "output_type": "stream",
          "name": "stdout",
          "text": [
            "[1, 2, 3]\n",
            "(4, 5, 6)\n",
            "{'a': 7, 'b': 8}\n"
          ]
        }
      ]
    },
    {
      "cell_type": "code",
      "source": [
        "# 27. Create a list of 5 random numbers between 1 and 100, sort it in ascending order, and print the result\n",
        "\n",
        "import random\n",
        "numbers = random.sample(range(1, 101), 5)\n",
        "numbers.sort()\n",
        "print(numbers)\n"
      ],
      "metadata": {
        "colab": {
          "base_uri": "https://localhost:8080/"
        },
        "id": "6ShK14VEKeTN",
        "outputId": "feea9ebb-7ed3-4d68-86c2-26ca390c5b85"
      },
      "execution_count": 31,
      "outputs": [
        {
          "output_type": "stream",
          "name": "stdout",
          "text": [
            "[48, 55, 72, 73, 94]\n"
          ]
        }
      ]
    },
    {
      "cell_type": "code",
      "source": [
        "# 28. Create a list with strings and print the element at the third index.\n",
        "\n",
        "words = [\"apple\", \"banana\", \"cherry\", \"date\", \"elderberry\"]\n",
        "print(words[3])\n"
      ],
      "metadata": {
        "colab": {
          "base_uri": "https://localhost:8080/"
        },
        "id": "0UCCnYv9KkvS",
        "outputId": "3345dfeb-b407-4a30-d796-6bc198b79082"
      },
      "execution_count": 32,
      "outputs": [
        {
          "output_type": "stream",
          "name": "stdout",
          "text": [
            "date\n"
          ]
        }
      ]
    },
    {
      "cell_type": "code",
      "source": [
        "# 29. Combine two dictionaries into one and print the result.\n",
        "\n",
        "dict1 = {\"a\": 1, \"b\": 2}\n",
        "dict2 = {\"c\": 3, \"d\": 4}\n",
        "combined = {**dict1, **dict2}\n",
        "print(combined)\n"
      ],
      "metadata": {
        "colab": {
          "base_uri": "https://localhost:8080/"
        },
        "id": "dcqkds4tKuhK",
        "outputId": "eabeaeaf-0628-499a-b641-7ba4d08b21b3"
      },
      "execution_count": 35,
      "outputs": [
        {
          "output_type": "stream",
          "name": "stdout",
          "text": [
            "{'a': 1, 'b': 2, 'c': 3, 'd': 4}\n"
          ]
        }
      ]
    },
    {
      "cell_type": "code",
      "source": [
        "# 30. Convert a list of strings into a set.\n",
        "\n",
        "words = [\"apple\", \"banana\", \"apple\", \"cherry\"]\n",
        "unique_words = set(words)\n",
        "print(unique_words)\n"
      ],
      "metadata": {
        "colab": {
          "base_uri": "https://localhost:8080/"
        },
        "id": "Zwkzcw8OKzIe",
        "outputId": "7961ecf9-0668-4c43-fe7d-ced9bb937ba9"
      },
      "execution_count": 36,
      "outputs": [
        {
          "output_type": "stream",
          "name": "stdout",
          "text": [
            "{'cherry', 'apple', 'banana'}\n"
          ]
        }
      ]
    },
    {
      "cell_type": "code",
      "source": [],
      "metadata": {
        "id": "kLjG8YC9LEWz"
      },
      "execution_count": null,
      "outputs": []
    }
  ]
}